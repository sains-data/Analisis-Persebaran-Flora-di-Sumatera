{
  "nbformat": 4,
  "nbformat_minor": 0,
  "metadata": {
    "colab": {
      "provenance": []
    },
    "kernelspec": {
      "name": "python3",
      "display_name": "Python 3"
    },
    "language_info": {
      "name": "python"
    }
  },
  "cells": [
    {
      "cell_type": "markdown",
      "source": [
        "## Data Sampel 100 data"
      ],
      "metadata": {
        "id": "khBk_3wcADRS"
      }
    },
    {
      "cell_type": "code",
      "execution_count": 1,
      "metadata": {
        "id": "cvm6u4gC_0ci"
      },
      "outputs": [],
      "source": [
        "import requests\n",
        "import pandas as pd\n",
        "\n",
        "# Contoh mengambil data occurrence (membutuhkan paging)\n",
        "url = 'https://api.gbif.org/v1/occurrence/search?datasetKey=3e0987c4-375f-4d68-b2ac-5e4e3a6d3d6d&limit=100'\n",
        "response = requests.get(url).json()\n",
        "\n",
        "# Ambil data\n",
        "records = response['results']\n",
        "df = pd.DataFrame(records)\n",
        "\n",
        "# Simpan ke CSV\n",
        "df.to_csv('gbif_occurrence.csv', index=False)\n"
      ]
    },
    {
      "cell_type": "markdown",
      "source": [
        "## Mengambil semua data"
      ],
      "metadata": {
        "id": "dCgvjKpbAEbO"
      }
    },
    {
      "cell_type": "code",
      "source": [
        "import requests\n",
        "import pandas as pd\n",
        "import time\n",
        "\n",
        "# Dataset key dari GBIF\n",
        "dataset_key = '3e0987c4-375f-4d68-b2ac-5e4e3a6d3d6d'\n",
        "base_url = 'https://api.gbif.org/v1/occurrence/search'\n",
        "\n",
        "# Konfigurasi\n",
        "limit = 300  # maksimum data per halaman\n",
        "offset = 0\n",
        "all_results = []\n",
        "\n",
        "# Ambil total count\n",
        "count_url = f'{base_url}?datasetKey={dataset_key}&limit=1'\n",
        "total = requests.get(count_url).json().get('count', 0)\n",
        "print(f\"Total data yang tersedia: {total}\")\n",
        "\n",
        "# Loop untuk mengambil semua data\n",
        "while offset < total:\n",
        "    url = f\"{base_url}?datasetKey={dataset_key}&limit={limit}&offset={offset}\"\n",
        "    print(f\"Fetching offset {offset} ...\")\n",
        "    response = requests.get(url)\n",
        "\n",
        "    if response.status_code != 200:\n",
        "        print(f\"Error saat mengambil data di offset {offset}\")\n",
        "        break\n",
        "\n",
        "    data = response.json().get('results', [])\n",
        "    all_results.extend(data)\n",
        "\n",
        "    offset += limit\n",
        "    time.sleep(1)  # Delay supaya tidak overload server\n",
        "\n",
        "# Konversi ke DataFrame\n",
        "df = pd.DataFrame(all_results)\n",
        "\n",
        "# Pastikan kolom iucnRedListCategory ada\n",
        "if 'iucnRedListCategory' in df.columns:\n",
        "    # Filter berdasarkan kategori IUCN\n",
        "    df_ne = df[df['iucnRedListCategory'] == 'NE']\n",
        "    df_lc = df[df['iucnRedListCategory'] == 'LC']\n",
        "    df_en = df[df['iucnRedListCategory'] == 'EN']\n",
        "\n",
        "    # Simpan masing-masing ke CSV\n",
        "    df_ne.to_csv('gbif_NE.csv', index=False)\n",
        "    df_lc.to_csv('gbif_LC.csv', index=False)\n",
        "    df_en.to_csv('gbif_EN.csv', index=False)\n",
        "\n",
        "    print(\"Data berhasil disimpan berdasarkan kategori IUCN: NE, LC, EN\")\n",
        "else:\n",
        "    print(\"Kolom 'iucnRedListCategory' tidak ditemukan dalam data.\")\n"
      ],
      "metadata": {
        "colab": {
          "base_uri": "https://localhost:8080/"
        },
        "id": "peUZPEu2_9tH",
        "outputId": "04a535af-433a-42b2-d48e-2a16bd266090"
      },
      "execution_count": 2,
      "outputs": [
        {
          "output_type": "stream",
          "name": "stdout",
          "text": [
            "Total data yang tersedia: 13568\n",
            "Fetching offset 0 ...\n",
            "Fetching offset 300 ...\n",
            "Fetching offset 600 ...\n",
            "Fetching offset 900 ...\n",
            "Fetching offset 1200 ...\n",
            "Fetching offset 1500 ...\n",
            "Fetching offset 1800 ...\n",
            "Fetching offset 2100 ...\n",
            "Fetching offset 2400 ...\n",
            "Fetching offset 2700 ...\n",
            "Fetching offset 3000 ...\n",
            "Fetching offset 3300 ...\n",
            "Fetching offset 3600 ...\n",
            "Fetching offset 3900 ...\n",
            "Fetching offset 4200 ...\n",
            "Fetching offset 4500 ...\n",
            "Fetching offset 4800 ...\n",
            "Fetching offset 5100 ...\n",
            "Fetching offset 5400 ...\n",
            "Fetching offset 5700 ...\n",
            "Fetching offset 6000 ...\n",
            "Fetching offset 6300 ...\n",
            "Fetching offset 6600 ...\n",
            "Fetching offset 6900 ...\n",
            "Fetching offset 7200 ...\n",
            "Fetching offset 7500 ...\n",
            "Fetching offset 7800 ...\n",
            "Fetching offset 8100 ...\n",
            "Fetching offset 8400 ...\n",
            "Fetching offset 8700 ...\n",
            "Fetching offset 9000 ...\n",
            "Fetching offset 9300 ...\n",
            "Fetching offset 9600 ...\n",
            "Fetching offset 9900 ...\n",
            "Fetching offset 10200 ...\n",
            "Fetching offset 10500 ...\n",
            "Fetching offset 10800 ...\n",
            "Fetching offset 11100 ...\n",
            "Fetching offset 11400 ...\n",
            "Fetching offset 11700 ...\n",
            "Fetching offset 12000 ...\n",
            "Fetching offset 12300 ...\n",
            "Fetching offset 12600 ...\n",
            "Fetching offset 12900 ...\n",
            "Fetching offset 13200 ...\n",
            "Fetching offset 13500 ...\n",
            "Data berhasil disimpan berdasarkan kategori IUCN: NE, LC, EN\n"
          ]
        }
      ]
    }
  ]
}